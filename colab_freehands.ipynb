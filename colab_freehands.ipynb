{
  "cells": [
    {
      "cell_type": "markdown",
      "metadata": {
        "colab_type": "text",
        "id": "view-in-github"
      },
      "source": [
        "<a href=\"https://colab.research.google.com/github/m-fila/colab_freehands/blob/main/colab_freehands.ipynb\" target=\"_parent\"><img src=\"https://colab.research.google.com/assets/colab-badge.svg\" alt=\"Open In Colab\"/></a>"
      ]
    },
    {
      "cell_type": "markdown",
      "metadata": {
        "id": "LkQrB7eZhY1N"
      },
      "source": [
        "# Colab freehands\n",
        "\n",
        "Example of using custom hand drawn input with model trained on the MNIST dataset"
      ]
    },
    {
      "cell_type": "code",
      "execution_count": 3,
      "metadata": {
        "colab": {
          "base_uri": "https://localhost:8080/"
        },
        "id": "k9IdIOpTeBS5",
        "outputId": "3dd5a97f-5974-4757-abd9-cdf5879ebebb"
      },
      "outputs": [
        {
          "name": "stdout",
          "output_type": "stream",
          "text": [
            "Cloning into 'colab_freehands'...\n",
            "fatal: could not read Username for 'https://github.com': No such device or address\n"
          ]
        }
      ],
      "source": [
        "! git clone https://github.com/m-fila/colab_freehands.git"
      ]
    },
    {
      "cell_type": "code",
      "execution_count": 12,
      "metadata": {
        "id": "1NPOz5a-dTxR"
      },
      "outputs": [],
      "source": [
        "from tensorflow.keras.models import load_model\n",
        "from colab_freehands.canvas import Canvas\n",
        "import numpy as np\n",
        "import matplotlib.pyplot as plt"
      ]
    },
    {
      "cell_type": "markdown",
      "metadata": {},
      "source": [
        "Load model:"
      ]
    },
    {
      "cell_type": "code",
      "execution_count": 13,
      "metadata": {
        "id": "eeQs4HxGaY7i"
      },
      "outputs": [],
      "source": [
        "load_premade = False\n",
        "if load_premade:\n",
        "  model = load_model('colab_freehands/models/mnist_convnet.h5')\n",
        "else:\n",
        "  from colab_freehands.mnist_convnet import model\n",
        "  model.save('colab_freehands/models/mnist_convnet.h5')"
      ]
    },
    {
      "cell_type": "markdown",
      "metadata": {},
      "source": [
        "Check model prediction on your own handwritten number:"
      ]
    },
    {
      "cell_type": "code",
      "execution_count": 15,
      "metadata": {
        "colab": {
          "base_uri": "https://localhost:8080/",
          "height": 355
        },
        "id": "r2BrLyZgbOt5",
        "outputId": "ea3223d7-aa26-44a8-f686-af2702e94637"
      },
      "outputs": [
        {
          "data": {
            "text/html": [
              "\n",
              "  <canvas width=64 height=64 style=\"border: 1px solid black;\"></canvas>\n",
              "  <button>Finish</button>\n",
              "  <script>\n",
              "  var canvas = document.querySelector('canvas')\n",
              "  var ctx = canvas.getContext('2d')\n",
              "  ctx.lineWidth = 2\n",
              "  var button = document.querySelector('button')\n",
              "  var mouse = {x: 0, y: 0}\n",
              "  canvas.addEventListener('mousemove', function(e) {\n",
              "    mouse.x = e.pageX - this.offsetLeft\n",
              "    mouse.y = e.pageY - this.offsetTop\n",
              "  })\n",
              "  canvas.onmousedown = ()=>{\n",
              "    ctx.beginPath()\n",
              "    ctx.moveTo(mouse.x, mouse.y)\n",
              "    canvas.addEventListener('mousemove', onPaint)\n",
              "  }\n",
              "  canvas.onmouseup = ()=>{\n",
              "    canvas.removeEventListener('mousemove', onPaint)\n",
              "  }\n",
              "  var onPaint = ()=>{\n",
              "    ctx.lineTo(mouse.x, mouse.y)\n",
              "    ctx.stroke()\n",
              "  }\n",
              "  var data = new Promise(resolve=>{\n",
              "    button.onclick = ()=>{\n",
              "      resolve(canvas.toDataURL('image/png'))\n",
              "    }\n",
              "  })\n",
              "  </script>\n",
              "  "
            ],
            "text/plain": [
              "<IPython.core.display.HTML object>"
            ]
          },
          "metadata": {},
          "output_type": "display_data"
        },
        {
          "data": {
            "image/png": "[encoded data removed]",
            "text/plain": [
              "<Figure size 432x288 with 1 Axes>"
            ]
          },
          "metadata": {
            "needs_background": "light"
          },
          "output_type": "display_data"
        },
        {
          "name": "stdout",
          "output_type": "stream",
          "text": [
            "Predicted class: 2 (100%)\n"
          ]
        }
      ],
      "source": [
        "canvas=Canvas(line_width=2)\n",
        "example=canvas.to_array(size=(20,20), margin=(4,4), dtype=np.float32, weighted=True)/255\n",
        "predictions=model(np.expand_dims(example, (0,-1)))\n",
        "plt.imshow(example, cmap='gray')\n",
        "plt.show()\n",
        "print(\"Predicted class: {} ({:.0f}%)\".format(np.argmax(predictions), np.max(predictions)*100))"
      ]
    },
    {
      "cell_type": "code",
      "execution_count": null,
      "metadata": {
        "id": "2hSQGr-anGVP"
      },
      "outputs": [],
      "source": []
    }
  ],
  "metadata": {
    "colab": {
      "name": "colab_freehands.ipynb",
      "provenance": []
    },
    "kernelspec": {
      "display_name": "Python 3",
      "name": "python3"
    },
    "language_info": {
      "name": "python"
    }
  },
  "nbformat": 4,
  "nbformat_minor": 0
}
