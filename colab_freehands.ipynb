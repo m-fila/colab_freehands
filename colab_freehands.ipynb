{
  "nbformat": 4,
  "nbformat_minor": 0,
  "metadata": {
    "colab": {
      "name": "Untitled13.ipynb",
      "provenance": []
    },
    "kernelspec": {
      "name": "python3",
      "display_name": "Python 3"
    },
    "language_info": {
      "name": "python"
    }
  },
  "cells": [
    {
      "cell_type": "markdown",
      "metadata": {
        "id": "LkQrB7eZhY1N"
      },
      "source": [
        "# Colab freehands"
      ]
    },
    {
      "cell_type": "code",
      "metadata": {
        "colab": {
          "base_uri": "https://localhost:8080/"
        },
        "id": "k9IdIOpTeBS5",
        "outputId": "8f600373-03df-4d4d-8f7f-4c62a17c318b"
      },
      "source": [
        "! git clone https://github.com/m-fila/colab_freehands.git"
      ],
      "execution_count": 21,
      "outputs": [
        {
          "output_type": "stream",
          "name": "stdout",
          "text": [
            "Cloning into 'colab_freehands'...\n",
            "fatal: could not read Username for 'https://github.com': No such device or address\n"
          ]
        }
      ]
    },
    {
      "cell_type": "code",
      "metadata": {
        "id": "1NPOz5a-dTxR"
      },
      "source": [
        "from tensorflow.keras.models import load_model\n",
        "from colab_freehands.canvas import Canvas\n",
        "import numpy as np\n",
        "import matplotlib.pyplot as plt"
      ],
      "execution_count": 1,
      "outputs": []
    },
    {
      "cell_type": "code",
      "metadata": {
        "id": "eeQs4HxGaY7i"
      },
      "source": [
        "load_premade = True\n",
        "if load_premade:\n",
        "  model = load_model('colab_freehands/models/mnist_convnet.h5')\n",
        "else:\n",
        "  from colab_freehands.mnist_convnet import model\n",
        "  model.save('colab_freehands/models/mnist_convnet.h5')"
      ],
      "execution_count": 2,
      "outputs": []
    },
    {
      "cell_type": "code",
      "metadata": {
        "colab": {
          "base_uri": "https://localhost:8080/",
          "height": 355
        },
        "id": "r2BrLyZgbOt5",
        "outputId": "1dfb942c-8798-4ca9-f7af-0301285e7484"
      },
      "source": [
        "canvas=Canvas(line_width=2)\n",
        "example=canvas.to_array(size=(20,20), margin=(4,4), dtype=np.float32, weighted=True)/255\n",
        "predictions=model(np.expand_dims(example, (0,-1)))\n",
        "plt.imshow(example, cmap='gray')\n",
        "plt.show()\n",
        "print(\"Predicted class: {} ({:.0f}%)\".format(np.argmax(predictions), np.max(predictions)*100))"
      ],
      "execution_count": 3,
      "outputs": [
        {
          "output_type": "display_data",
          "data": {
            "text/html": [
              "\n",
              "  <canvas width=64 height=64 style=\"border: 1px solid black;\"></canvas>\n",
              "  <button>Finish</button>\n",
              "  <script>\n",
              "  var canvas = document.querySelector('canvas')\n",
              "  var ctx = canvas.getContext('2d')\n",
              "  ctx.lineWidth = 2\n",
              "  var button = document.querySelector('button')\n",
              "  var mouse = {x: 0, y: 0}\n",
              "  canvas.addEventListener('mousemove', function(e) {\n",
              "    mouse.x = e.pageX - this.offsetLeft\n",
              "    mouse.y = e.pageY - this.offsetTop\n",
              "  })\n",
              "  canvas.onmousedown = ()=>{\n",
              "    ctx.beginPath()\n",
              "    ctx.moveTo(mouse.x, mouse.y)\n",
              "    canvas.addEventListener('mousemove', onPaint)\n",
              "  }\n",
              "  canvas.onmouseup = ()=>{\n",
              "    canvas.removeEventListener('mousemove', onPaint)\n",
              "  }\n",
              "  var onPaint = ()=>{\n",
              "    ctx.lineTo(mouse.x, mouse.y)\n",
              "    ctx.stroke()\n",
              "  }\n",
              "  var data = new Promise(resolve=>{\n",
              "    button.onclick = ()=>{\n",
              "      resolve(canvas.toDataURL('image/png'))\n",
              "    }\n",
              "  })\n",
              "  </script>\n",
              "  "
            ],
            "text/plain": [
              "<IPython.core.display.HTML object>"
            ]
          },
          "metadata": {}
        },
        {
          "output_type": "display_data",
          "data": {
            "image/png": "[encoded data removed]",
            "text/plain": [
              "<Figure size 432x288 with 1 Axes>"
            ]
          },
          "metadata": {
            "needs_background": "light"
          }
        },
        {
          "output_type": "stream",
          "name": "stdout",
          "text": [
            "Predicted class: 2 (100%)\n"
          ]
        }
      ]
    }
  ]
}